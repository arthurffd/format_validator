{
 "cells": [
  {
   "cell_type": "code",
   "execution_count": 2,
   "metadata": {},
   "outputs": [],
   "source": [
    "import pandas as pd\n",
    "import datetime\n",
    "import numpy as np\n",
    "import json\n"
   ]
  },
  {
   "cell_type": "code",
   "execution_count": 3,
   "metadata": {},
   "outputs": [],
   "source": [
    "# Parse JSON schema\n",
    "class FileSchema():\n",
    "\n",
    "    def json_schema_parser(self, data):\n",
    "        # read properties from json format schema file\n",
    "        \n",
    "        # format_name\n",
    "        self.format_name = data[\"format\"][\"format_name\"]\n",
    "\n",
    "        # CSV params    \n",
    "        d_csv = {}\n",
    "        d_csv = data[\"format\"][\"csv\"]\n",
    "        \n",
    "        # set csv params\n",
    "        self.delimiter = data[\"format\"][\"csv\"]['delimiter']\n",
    "        self.compression = data[\"format\"][\"csv\"]['compression']\n",
    "        self.header = int(data[\"format\"][\"csv\"]['header'])\n",
    "\n",
    "        # set COLUMNS params\n",
    "        d_cols = data[\"format\"][\"columns\"]\n",
    "        self.col_names = []\n",
    "        self.col_types = {}\n",
    "        self.col_null = {}\n",
    "        self.col_keys = {}\n",
    "        self.col_dt_format = {}\n",
    "        self.col_dates = []\n",
    "        self.decimal = '.'\n",
    "        self.thousand = None\n",
    "        self.date_parser = None  \n",
    "     \n",
    "        # get attributes from each column:\n",
    "        for i in d_cols:\n",
    "            self.col_names.append(i)\n",
    "            for j in d_cols[i]:\n",
    "                # get column type\n",
    "                if j == 'type':\n",
    "                    tipo = d_cols[i][j]\n",
    "                    if tipo == 'int':\n",
    "                        self.col_types[i] = 'int64'\n",
    "                    elif tipo == 'float':\n",
    "                        self.col_types[i] = 'float64'\n",
    "                    elif tipo == 'date':\n",
    "                        self.col_dates.append(i)\n",
    "                    else: # string\n",
    "                        self.col_types[i] = 'object'\n",
    "                \n",
    "                # column can be null?\n",
    "                elif j == 'nullable':\n",
    "                    self.col_null[i] = d_cols[i][j]\n",
    "                \n",
    "                # column is key, to avoid duplicate\n",
    "                elif j == 'key':\n",
    "                    self.col_keys[i] = d_cols[i][j]\n",
    "                \n",
    "                # date format (python format)\n",
    "                elif j == 'date_format':\n",
    "                    self.col_dt_format[i] = d_cols[i][j]\n",
    "                    self.date_parser = d_cols[i][j]\n",
    "                \n",
    "                # float decimal char\n",
    "                elif j == 'decimal':\n",
    "                    self.decimal = d_cols[i][j]\n",
    "                # float thousand char\n",
    "                elif j == 'thousand':\n",
    "                    self.thousand = d_cols[i][j]\n",
    "\n",
    "        # print main attributes\n",
    "        print('format_name = ', self.format_name)\n",
    "        print('delimiter = ', self.delimiter)\n",
    "        print('compression = ', self.compression)\n",
    "        print('header = ', self.header)            \n",
    "        print('col names: ', self.col_names)\n",
    "        print('col types: ', self.col_types)\n",
    "        print('col null: ', self.col_null)\n",
    "        print('col keys: ', self.col_keys)\n",
    "        print('col date format: ', self.col_dt_format)\n",
    "        print('col dates:', self.col_dates)\n",
    "        print('thousand:', self.thousand)\n",
    "        print('decimal:', self.decimal)\n"
   ]
  },
  {
   "cell_type": "code",
   "execution_count": 4,
   "metadata": {},
   "outputs": [],
   "source": [
    "def valid_col_type(row, col, tipo, fmt, log):\n",
    "    # Try to validate a column while converting (casting) the value into a certain type.\n",
    "    # Errors are stored into \"log\" dictionary\n",
    "    try:\n",
    "        #original = str(row[col])\n",
    "        original = row[col]\n",
    "        x = ''\n",
    "\n",
    "        if tipo == 'int':\n",
    "            ans = int(original)\n",
    "            \n",
    "        elif tipo == 'float':\n",
    "            v_float = original\n",
    "            if v_float and fmt.thousand:\n",
    "                v_float = v_float.replace(fmt.thousand, '')\n",
    "            if v_float and fmt.decimal:\n",
    "                v_float = v_float.replace(fmt.decimal, '.')\n",
    "            ans = float(v_float)\n",
    "            \n",
    "        elif tipo == 'date':\n",
    "            ans = datetime.datetime.strptime(original, fmt.date_parser)\n",
    "           \n",
    "    except Exception as error:\n",
    "        v_row = str(row['index'] + 2)\n",
    "        v_key = 'row:'+  v_row + ',col:' + col + ',TYPE'\n",
    "        error_str = 'Linha {l} , Coluna {c}, Type : Erro ao tentar converter o valor \\'{o}\\' para o tipo {t}. | Exception: {e}'.format(\n",
    "                        l = v_row, o = str(original), t= str(tipo), c = col, e = error)\n",
    "        log[v_key] = error_str\n",
    "        ans = pd.np.nan\n",
    "        \n",
    "    return ans\n"
   ]
  },
  {
   "cell_type": "code",
   "execution_count": 5,
   "metadata": {},
   "outputs": [],
   "source": [
    "def valid_null_col(df, col, index, log):\n",
    "    # check if the column has null values. If is there any null value, it store the row and column into the log dict.\n",
    "    nulls = df.loc[df[col].isnull(), 'index'].tolist()\n",
    "    for i in nulls:\n",
    "        v_row = i + 2\n",
    "        v_key = 'row:'+  str(v_row) + ',col:' + col + ',null'\n",
    "        v_erro = 'Linha {l} , Coluna {c}, NULL : Erro: o valor para esta linha e coluna nao pode ser vazio.'.format(l = v_row, c = col)\n",
    "        log[v_key] = v_erro"
   ]
  },
  {
   "cell_type": "code",
   "execution_count": 7,
   "metadata": {},
   "outputs": [
    {
     "name": "stdout",
     "output_type": "stream",
     "text": [
      "{'format': {'format_name': 'csv_sample_001', 'csv': {'delimiter': ';', 'compression': 'infer', 'header': '0', 'validate_keys': 'false'}, 'columns': {'CODIGO': {'type': 'int', 'nullable': 'false', 'key': 'true'}, 'NOME': {'type': 'string', 'nullable': 'false', 'size': '150'}, 'CPF': {'type': 'string', 'size': '14', 'nullable': 'true', 'key': 'false'}, 'NASCIMENTO': {'type': 'date', 'date_format': '%d/%m/%Y', 'min_date': '01/01/1900', 'max_date': '31/12/2050', 'nullable': 'true', 'key': 'false'}, 'SALDO': {'type': 'float', 'nullable': 'yes', 'key': 'false', 'decimal': ',', 'thousand': '.', 'negative': 'true', 'currency_symbol': 'R$'}}}}\n"
     ]
    }
   ],
   "source": [
    "# open the json schema format configuration file\n",
    "with open('format_sample_001.json') as json_file:\n",
    "    json_data = json.load(json_file)\n",
    "    print(json_data)\n"
   ]
  },
  {
   "cell_type": "code",
   "execution_count": 8,
   "metadata": {},
   "outputs": [
    {
     "name": "stdout",
     "output_type": "stream",
     "text": [
      "format_name =  csv_sample_001\n",
      "delimiter =  ;\n",
      "compression =  infer\n",
      "header =  0\n",
      "col names:  ['CODIGO', 'NOME', 'CPF', 'NASCIMENTO', 'SALDO']\n",
      "col types:  {'CODIGO': 'int64', 'NOME': 'object', 'CPF': 'object', 'SALDO': 'float64'}\n",
      "col null:  {'CODIGO': 'false', 'NOME': 'false', 'CPF': 'true', 'NASCIMENTO': 'true', 'SALDO': 'yes'}\n",
      "col keys:  {'CODIGO': 'true', 'CPF': 'false', 'NASCIMENTO': 'false', 'SALDO': 'false'}\n",
      "col date format:  {'NASCIMENTO': '%d/%m/%Y'}\n",
      "col dates: ['NASCIMENTO']\n",
      "thousand: .\n",
      "decimal: ,\n"
     ]
    }
   ],
   "source": [
    "# parse the schema into the fmt instance\n",
    "fmt = FileSchema()\n",
    "fmt.json_schema_parser(json_data)"
   ]
  },
  {
   "cell_type": "code",
   "execution_count": 9,
   "metadata": {},
   "outputs": [],
   "source": [
    "# read the sample file into a dataframe\n",
    "p_csv = 'sample_file_01.csv'\n",
    "df1 = pd.read_csv(p_csv, delimiter = fmt.delimiter , encoding='UTF-8')\n",
    "# add a index to the df\n",
    "df1 = df1.reset_index()"
   ]
  },
  {
   "cell_type": "code",
   "execution_count": 10,
   "metadata": {},
   "outputs": [
    {
     "data": {
      "text/html": [
       "<div>\n",
       "<style scoped>\n",
       "    .dataframe tbody tr th:only-of-type {\n",
       "        vertical-align: middle;\n",
       "    }\n",
       "\n",
       "    .dataframe tbody tr th {\n",
       "        vertical-align: top;\n",
       "    }\n",
       "\n",
       "    .dataframe thead th {\n",
       "        text-align: right;\n",
       "    }\n",
       "</style>\n",
       "<table border=\"1\" class=\"dataframe\">\n",
       "  <thead>\n",
       "    <tr style=\"text-align: right;\">\n",
       "      <th></th>\n",
       "      <th>index</th>\n",
       "      <th>CODIGO</th>\n",
       "      <th>NOME</th>\n",
       "      <th>CPF</th>\n",
       "      <th>NASCIMENTO</th>\n",
       "      <th>SALDO</th>\n",
       "    </tr>\n",
       "  </thead>\n",
       "  <tbody>\n",
       "    <tr>\n",
       "      <th>0</th>\n",
       "      <td>0</td>\n",
       "      <td>1001</td>\n",
       "      <td>Tina Voldaren</td>\n",
       "      <td>100.100.100-10</td>\n",
       "      <td>15/11/1980</td>\n",
       "      <td>459</td>\n",
       "    </tr>\n",
       "    <tr>\n",
       "      <th>1</th>\n",
       "      <td>1</td>\n",
       "      <td>1002</td>\n",
       "      <td>Ana Fier</td>\n",
       "      <td>200.200.200-20</td>\n",
       "      <td>01/01/2000</td>\n",
       "      <td>500,00</td>\n",
       "    </tr>\n",
       "    <tr>\n",
       "      <th>2</th>\n",
       "      <td>2</td>\n",
       "      <td>1003</td>\n",
       "      <td>Samantha Smallcock</td>\n",
       "      <td>300.200.100-30</td>\n",
       "      <td>31/07/1977</td>\n",
       "      <td>3.333,30</td>\n",
       "    </tr>\n",
       "    <tr>\n",
       "      <th>3</th>\n",
       "      <td>3</td>\n",
       "      <td>1004</td>\n",
       "      <td>Jennifer Ravena (Jinni)</td>\n",
       "      <td>400.300.200-10</td>\n",
       "      <td>04/04/1944</td>\n",
       "      <td>NaN</td>\n",
       "    </tr>\n",
       "    <tr>\n",
       "      <th>4</th>\n",
       "      <td>4</td>\n",
       "      <td>1005</td>\n",
       "      <td>Barbara Patrick</td>\n",
       "      <td>100.100.100-11</td>\n",
       "      <td>25/12/1999</td>\n",
       "      <td>241.17</td>\n",
       "    </tr>\n",
       "    <tr>\n",
       "      <th>5</th>\n",
       "      <td>5</td>\n",
       "      <td>1006</td>\n",
       "      <td>Selena Herrick (Sena)</td>\n",
       "      <td>200.200.200-21</td>\n",
       "      <td>15/11/1980</td>\n",
       "      <td>20.177,87</td>\n",
       "    </tr>\n",
       "    <tr>\n",
       "      <th>6</th>\n",
       "      <td>6</td>\n",
       "      <td>1007</td>\n",
       "      <td>Sarah Varney (Sadie)</td>\n",
       "      <td>300.200.100-31</td>\n",
       "      <td>01/01/2000</td>\n",
       "      <td>114,57</td>\n",
       "    </tr>\n",
       "    <tr>\n",
       "      <th>7</th>\n",
       "      <td>7</td>\n",
       "      <td>x</td>\n",
       "      <td>x</td>\n",
       "      <td>x</td>\n",
       "      <td>x</td>\n",
       "      <td>x</td>\n",
       "    </tr>\n",
       "    <tr>\n",
       "      <th>8</th>\n",
       "      <td>8</td>\n",
       "      <td>1008</td>\n",
       "      <td>Vera Cassidy</td>\n",
       "      <td>400.300.200-11</td>\n",
       "      <td>31/07/1977</td>\n",
       "      <td>51,27</td>\n",
       "    </tr>\n",
       "    <tr>\n",
       "      <th>9</th>\n",
       "      <td>9</td>\n",
       "      <td>100.9</td>\n",
       "      <td>Genésia Aparecida</td>\n",
       "      <td>100.100.100-12</td>\n",
       "      <td>04/04/1944</td>\n",
       "      <td>-12,03</td>\n",
       "    </tr>\n",
       "    <tr>\n",
       "      <th>10</th>\n",
       "      <td>10</td>\n",
       "      <td>1010</td>\n",
       "      <td>Maitê Proença</td>\n",
       "      <td>200.200.200-22</td>\n",
       "      <td>25/12/1999</td>\n",
       "      <td>9.990,00</td>\n",
       "    </tr>\n",
       "    <tr>\n",
       "      <th>11</th>\n",
       "      <td>11</td>\n",
       "      <td>1011</td>\n",
       "      <td>Tião Silva</td>\n",
       "      <td>300.200.100-32</td>\n",
       "      <td>15/11/1980</td>\n",
       "      <td>-138,63</td>\n",
       "    </tr>\n",
       "    <tr>\n",
       "      <th>12</th>\n",
       "      <td>12</td>\n",
       "      <td>1012</td>\n",
       "      <td>João José Inglês</td>\n",
       "      <td>400.300.200-12</td>\n",
       "      <td>01/01/2000</td>\n",
       "      <td>500.00</td>\n",
       "    </tr>\n",
       "    <tr>\n",
       "      <th>13</th>\n",
       "      <td>13</td>\n",
       "      <td>NaN</td>\n",
       "      <td>NaN</td>\n",
       "      <td>NaN</td>\n",
       "      <td>NaN</td>\n",
       "      <td>NaN</td>\n",
       "    </tr>\n",
       "    <tr>\n",
       "      <th>14</th>\n",
       "      <td>14</td>\n",
       "      <td>171</td>\n",
       "      <td>Mussum Cacíldis</td>\n",
       "      <td>171.100.200-51</td>\n",
       "      <td>10/09/1951</td>\n",
       "      <td>51</td>\n",
       "    </tr>\n",
       "  </tbody>\n",
       "</table>\n",
       "</div>"
      ],
      "text/plain": [
       "    index CODIGO                     NOME             CPF  NASCIMENTO  \\\n",
       "0       0   1001            Tina Voldaren  100.100.100-10  15/11/1980   \n",
       "1       1   1002                 Ana Fier  200.200.200-20  01/01/2000   \n",
       "2       2   1003       Samantha Smallcock  300.200.100-30  31/07/1977   \n",
       "3       3   1004  Jennifer Ravena (Jinni)  400.300.200-10  04/04/1944   \n",
       "4       4   1005          Barbara Patrick  100.100.100-11  25/12/1999   \n",
       "5       5   1006    Selena Herrick (Sena)  200.200.200-21  15/11/1980   \n",
       "6       6   1007     Sarah Varney (Sadie)  300.200.100-31  01/01/2000   \n",
       "7       7      x                        x               x           x   \n",
       "8       8   1008             Vera Cassidy  400.300.200-11  31/07/1977   \n",
       "9       9  100.9        Genésia Aparecida  100.100.100-12  04/04/1944   \n",
       "10     10   1010            Maitê Proença  200.200.200-22  25/12/1999   \n",
       "11     11   1011               Tião Silva  300.200.100-32  15/11/1980   \n",
       "12     12   1012         João José Inglês  400.300.200-12  01/01/2000   \n",
       "13     13    NaN                      NaN             NaN         NaN   \n",
       "14     14    171          Mussum Cacíldis  171.100.200-51  10/09/1951   \n",
       "\n",
       "        SALDO  \n",
       "0         459  \n",
       "1      500,00  \n",
       "2    3.333,30  \n",
       "3         NaN  \n",
       "4      241.17  \n",
       "5   20.177,87  \n",
       "6      114,57  \n",
       "7           x  \n",
       "8       51,27  \n",
       "9      -12,03  \n",
       "10   9.990,00  \n",
       "11    -138,63  \n",
       "12     500.00  \n",
       "13        NaN  \n",
       "14         51  "
      ]
     },
     "execution_count": 10,
     "metadata": {},
     "output_type": "execute_result"
    }
   ],
   "source": [
    "df1.head(15)"
   ]
  },
  {
   "cell_type": "code",
   "execution_count": 11,
   "metadata": {},
   "outputs": [
    {
     "data": {
      "text/plain": [
       "index          int64\n",
       "CODIGO        object\n",
       "NOME          object\n",
       "CPF           object\n",
       "NASCIMENTO    object\n",
       "SALDO         object\n",
       "dtype: object"
      ]
     },
     "execution_count": 11,
     "metadata": {},
     "output_type": "execute_result"
    }
   ],
   "source": [
    "df1.dtypes"
   ]
  },
  {
   "cell_type": "code",
   "execution_count": 12,
   "metadata": {},
   "outputs": [],
   "source": [
    "flog = {}\n",
    "# validating the column types for CODIGO (int), SALDO (float) and NASCIMENTO (date)\n",
    "df1['CODIGO'] = df1.apply(valid_col_type, axis=1, col='CODIGO', tipo='int', fmt = fmt, log = flog)\n",
    "df1['SALDO'] = df1.apply(valid_col_type, axis=1, col='SALDO', tipo='float', fmt = fmt, log = flog)\n",
    "df1['NASCIMENTO'] = df1.apply(valid_col_type, axis=1, col='NASCIMENTO', tipo='date', fmt = fmt, log = flog)"
   ]
  },
  {
   "cell_type": "code",
   "execution_count": 14,
   "metadata": {},
   "outputs": [
    {
     "data": {
      "text/plain": [
       "index                  int64\n",
       "CODIGO               float64\n",
       "NOME                  object\n",
       "CPF                   object\n",
       "NASCIMENTO    datetime64[ns]\n",
       "SALDO                float64\n",
       "dtype: object"
      ]
     },
     "execution_count": 14,
     "metadata": {},
     "output_type": "execute_result"
    }
   ],
   "source": [
    "df1.dtypes"
   ]
  },
  {
   "cell_type": "code",
   "execution_count": 15,
   "metadata": {},
   "outputs": [
    {
     "data": {
      "text/html": [
       "<div>\n",
       "<style scoped>\n",
       "    .dataframe tbody tr th:only-of-type {\n",
       "        vertical-align: middle;\n",
       "    }\n",
       "\n",
       "    .dataframe tbody tr th {\n",
       "        vertical-align: top;\n",
       "    }\n",
       "\n",
       "    .dataframe thead th {\n",
       "        text-align: right;\n",
       "    }\n",
       "</style>\n",
       "<table border=\"1\" class=\"dataframe\">\n",
       "  <thead>\n",
       "    <tr style=\"text-align: right;\">\n",
       "      <th></th>\n",
       "      <th>index</th>\n",
       "      <th>CODIGO</th>\n",
       "      <th>NOME</th>\n",
       "      <th>CPF</th>\n",
       "      <th>NASCIMENTO</th>\n",
       "      <th>SALDO</th>\n",
       "    </tr>\n",
       "  </thead>\n",
       "  <tbody>\n",
       "    <tr>\n",
       "      <th>7</th>\n",
       "      <td>7</td>\n",
       "      <td>NaN</td>\n",
       "      <td>x</td>\n",
       "      <td>x</td>\n",
       "      <td>NaT</td>\n",
       "      <td>NaN</td>\n",
       "    </tr>\n",
       "    <tr>\n",
       "      <th>9</th>\n",
       "      <td>9</td>\n",
       "      <td>NaN</td>\n",
       "      <td>Genésia Aparecida</td>\n",
       "      <td>100.100.100-12</td>\n",
       "      <td>1944-04-04</td>\n",
       "      <td>-12.03</td>\n",
       "    </tr>\n",
       "    <tr>\n",
       "      <th>13</th>\n",
       "      <td>13</td>\n",
       "      <td>NaN</td>\n",
       "      <td>NaN</td>\n",
       "      <td>NaN</td>\n",
       "      <td>NaT</td>\n",
       "      <td>NaN</td>\n",
       "    </tr>\n",
       "  </tbody>\n",
       "</table>\n",
       "</div>"
      ],
      "text/plain": [
       "    index  CODIGO               NOME             CPF NASCIMENTO  SALDO\n",
       "7       7     NaN                  x               x        NaT    NaN\n",
       "9       9     NaN  Genésia Aparecida  100.100.100-12 1944-04-04 -12.03\n",
       "13     13     NaN                NaN             NaN        NaT    NaN"
      ]
     },
     "execution_count": 15,
     "metadata": {},
     "output_type": "execute_result"
    }
   ],
   "source": [
    "# show rows with null CODIGO\n",
    "dfn = df1.loc[df1['CODIGO'].isnull(), :]\n",
    "dfn.head()\n"
   ]
  },
  {
   "cell_type": "code",
   "execution_count": 16,
   "metadata": {},
   "outputs": [
    {
     "name": "stdout",
     "output_type": "stream",
     "text": [
      "{'CODIGO': 'false', 'NOME': 'false', 'CPF': 'true', 'NASCIMENTO': 'true', 'SALDO': 'yes'}\n"
     ]
    }
   ],
   "source": [
    "ncols = fmt.col_null\n",
    "print(ncols)\n",
    "\n",
    "# validate columns that cannot be null \"nullable = false\"\n",
    "for col in ncols:\n",
    "    if ncols[col] == 'false':\n",
    "        valid_null_col(df1, col, 'index', flog)\n"
   ]
  },
  {
   "cell_type": "code",
   "execution_count": 17,
   "metadata": {},
   "outputs": [
    {
     "data": {
      "text/plain": [
       "{'row:9,col:CODIGO,TYPE': \"Linha 9 , Coluna CODIGO, Type : Erro ao tentar converter o valor 'x' para o tipo int. | Exception: invalid literal for int() with base 10: 'x'\",\n",
       " 'row:11,col:CODIGO,TYPE': \"Linha 11 , Coluna CODIGO, Type : Erro ao tentar converter o valor '100.9' para o tipo int. | Exception: invalid literal for int() with base 10: '100.9'\",\n",
       " 'row:15,col:CODIGO,TYPE': \"Linha 15 , Coluna CODIGO, Type : Erro ao tentar converter o valor 'nan' para o tipo int. | Exception: cannot convert float NaN to integer\",\n",
       " 'row:5,col:SALDO,TYPE': \"Linha 5 , Coluna SALDO, Type : Erro ao tentar converter o valor 'nan' para o tipo float. | Exception: 'float' object has no attribute 'replace'\",\n",
       " 'row:9,col:SALDO,TYPE': \"Linha 9 , Coluna SALDO, Type : Erro ao tentar converter o valor 'x' para o tipo float. | Exception: could not convert string to float: 'x'\",\n",
       " 'row:15,col:SALDO,TYPE': \"Linha 15 , Coluna SALDO, Type : Erro ao tentar converter o valor 'nan' para o tipo float. | Exception: 'float' object has no attribute 'replace'\",\n",
       " 'row:9,col:NASCIMENTO,TYPE': \"Linha 9 , Coluna NASCIMENTO, Type : Erro ao tentar converter o valor 'x' para o tipo date. | Exception: time data 'x' does not match format '%d/%m/%Y'\",\n",
       " 'row:15,col:NASCIMENTO,TYPE': \"Linha 15 , Coluna NASCIMENTO, Type : Erro ao tentar converter o valor 'nan' para o tipo date. | Exception: strptime() argument 1 must be str, not float\",\n",
       " 'row:9,col:CODIGO,null': 'Linha 9 , Coluna CODIGO, NULL : Erro: o valor para esta linha e coluna nao pode ser vazio.',\n",
       " 'row:11,col:CODIGO,null': 'Linha 11 , Coluna CODIGO, NULL : Erro: o valor para esta linha e coluna nao pode ser vazio.',\n",
       " 'row:15,col:CODIGO,null': 'Linha 15 , Coluna CODIGO, NULL : Erro: o valor para esta linha e coluna nao pode ser vazio.',\n",
       " 'row:15,col:NOME,null': 'Linha 15 , Coluna NOME, NULL : Erro: o valor para esta linha e coluna nao pode ser vazio.'}"
      ]
     },
     "execution_count": 17,
     "metadata": {},
     "output_type": "execute_result"
    }
   ],
   "source": [
    "flog"
   ]
  },
  {
   "cell_type": "code",
   "execution_count": 18,
   "metadata": {},
   "outputs": [],
   "source": [
    "# save errors into log file, with same input file name, but adding the extension \".err\"\n",
    "import csv\n",
    "f = open(p_csv + \".err\", \"w\")\n",
    "w = csv.writer(f, lineterminator = '\\n')\n",
    "for key, val in flog.items():\n",
    "    w.writerow([val])\n",
    "f.close()"
   ]
  },
  {
   "cell_type": "code",
   "execution_count": null,
   "metadata": {},
   "outputs": [],
   "source": []
  }
 ],
 "metadata": {
  "kernelspec": {
   "display_name": "Python 3",
   "language": "python",
   "name": "python3"
  },
  "language_info": {
   "codemirror_mode": {
    "name": "ipython",
    "version": 3
   },
   "file_extension": ".py",
   "mimetype": "text/x-python",
   "name": "python",
   "nbconvert_exporter": "python",
   "pygments_lexer": "ipython3",
   "version": "3.7.3"
  }
 },
 "nbformat": 4,
 "nbformat_minor": 2
}
