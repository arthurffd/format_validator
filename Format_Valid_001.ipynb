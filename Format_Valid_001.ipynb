{
 "cells": [
  {
   "cell_type": "code",
   "execution_count": 1,
   "metadata": {},
   "outputs": [],
   "source": [
    "import pandas as pd\n",
    "import datetime\n",
    "import datetime\n"
   ]
  },
  {
   "cell_type": "code",
   "execution_count": 2,
   "metadata": {},
   "outputs": [
    {
     "data": {
      "text/html": [
       "<div>\n",
       "<style scoped>\n",
       "    .dataframe tbody tr th:only-of-type {\n",
       "        vertical-align: middle;\n",
       "    }\n",
       "\n",
       "    .dataframe tbody tr th {\n",
       "        vertical-align: top;\n",
       "    }\n",
       "\n",
       "    .dataframe thead th {\n",
       "        text-align: right;\n",
       "    }\n",
       "</style>\n",
       "<table border=\"1\" class=\"dataframe\">\n",
       "  <thead>\n",
       "    <tr style=\"text-align: right;\">\n",
       "      <th></th>\n",
       "      <th>COMPETENCIA</th>\n",
       "      <th>CODIGO_BENEFICIARIO</th>\n",
       "      <th>NUM_EMPRESA</th>\n",
       "      <th>FATURAR_CONTRA</th>\n",
       "      <th>DAT_EMISSAO</th>\n",
       "      <th>DAT_PAGTO</th>\n",
       "      <th>COD_CENTRO_CUSTO</th>\n",
       "      <th>NOM_CENTRO_CUSTO</th>\n",
       "      <th>TIPO_ATO</th>\n",
       "      <th>TIPO_COBRANCA</th>\n",
       "      <th>VAL_ATO</th>\n",
       "      <th>VALOR_SALDO</th>\n",
       "      <th>VALOR_PAGO</th>\n",
       "    </tr>\n",
       "  </thead>\n",
       "  <tbody>\n",
       "    <tr>\n",
       "      <th>0</th>\n",
       "      <td>201406</td>\n",
       "      <td>0025.1231.035664.00-0</td>\n",
       "      <td>-1</td>\n",
       "      <td>Titular</td>\n",
       "      <td>2014-06-10</td>\n",
       "      <td>2014-08-04 00:00:00</td>\n",
       "      <td>NaN</td>\n",
       "      <td>NaN</td>\n",
       "      <td>Mensalidade Plano de Saúde</td>\n",
       "      <td>TAXA</td>\n",
       "      <td>176.82</td>\n",
       "      <td>0.0</td>\n",
       "      <td>286.89</td>\n",
       "    </tr>\n",
       "    <tr>\n",
       "      <th>1</th>\n",
       "      <td>201406</td>\n",
       "      <td>0025.1231.035664.00-0</td>\n",
       "      <td>-1</td>\n",
       "      <td>Titular</td>\n",
       "      <td>2014-06-10</td>\n",
       "      <td>2014-08-04 00:00:00</td>\n",
       "      <td>NaN</td>\n",
       "      <td>NaN</td>\n",
       "      <td>TAXA DE INSCRIÇÃO</td>\n",
       "      <td>TAXA</td>\n",
       "      <td>0.00</td>\n",
       "      <td>NaN</td>\n",
       "      <td>NaN</td>\n",
       "    </tr>\n",
       "    <tr>\n",
       "      <th>2</th>\n",
       "      <td>201406</td>\n",
       "      <td>0025.1231.035664.30-2</td>\n",
       "      <td>-1</td>\n",
       "      <td>Titular</td>\n",
       "      <td>2014-06-10</td>\n",
       "      <td>2014-08-04 00:00:00</td>\n",
       "      <td>NaN</td>\n",
       "      <td>NaN</td>\n",
       "      <td>Mensalidade Plano de Saúde</td>\n",
       "      <td>TAXA</td>\n",
       "      <td>104.01</td>\n",
       "      <td>NaN</td>\n",
       "      <td>NaN</td>\n",
       "    </tr>\n",
       "    <tr>\n",
       "      <th>3</th>\n",
       "      <td>201406</td>\n",
       "      <td>0025.1231.035664.30-2</td>\n",
       "      <td>-1</td>\n",
       "      <td>Titular</td>\n",
       "      <td>2014-06-10</td>\n",
       "      <td>2014-08-04 00:00:00</td>\n",
       "      <td>NaN</td>\n",
       "      <td>NaN</td>\n",
       "      <td>TAXA DE INSCRIÇÃO</td>\n",
       "      <td>TAXA</td>\n",
       "      <td>0.00</td>\n",
       "      <td>NaN</td>\n",
       "      <td>NaN</td>\n",
       "    </tr>\n",
       "    <tr>\n",
       "      <th>4</th>\n",
       "      <td>201407</td>\n",
       "      <td>0025.1978.001866.00-0</td>\n",
       "      <td>-1</td>\n",
       "      <td>Titular</td>\n",
       "      <td>2014-06-10</td>\n",
       "      <td>2014-06-10 00:00:00</td>\n",
       "      <td>NaN</td>\n",
       "      <td>NaN</td>\n",
       "      <td>Mensalidade Plano de Saúde</td>\n",
       "      <td>TAXA</td>\n",
       "      <td>187.77</td>\n",
       "      <td>0.0</td>\n",
       "      <td>187.77</td>\n",
       "    </tr>\n",
       "  </tbody>\n",
       "</table>\n",
       "</div>"
      ],
      "text/plain": [
       "   COMPETENCIA    CODIGO_BENEFICIARIO  NUM_EMPRESA FATURAR_CONTRA DAT_EMISSAO  \\\n",
       "0       201406  0025.1231.035664.00-0           -1        Titular  2014-06-10   \n",
       "1       201406  0025.1231.035664.00-0           -1        Titular  2014-06-10   \n",
       "2       201406  0025.1231.035664.30-2           -1        Titular  2014-06-10   \n",
       "3       201406  0025.1231.035664.30-2           -1        Titular  2014-06-10   \n",
       "4       201407  0025.1978.001866.00-0           -1        Titular  2014-06-10   \n",
       "\n",
       "             DAT_PAGTO  COD_CENTRO_CUSTO NOM_CENTRO_CUSTO  \\\n",
       "0  2014-08-04 00:00:00               NaN              NaN   \n",
       "1  2014-08-04 00:00:00               NaN              NaN   \n",
       "2  2014-08-04 00:00:00               NaN              NaN   \n",
       "3  2014-08-04 00:00:00               NaN              NaN   \n",
       "4  2014-06-10 00:00:00               NaN              NaN   \n",
       "\n",
       "                     TIPO_ATO TIPO_COBRANCA  VAL_ATO  VALOR_SALDO  VALOR_PAGO  \n",
       "0  Mensalidade Plano de Saúde          TAXA   176.82          0.0      286.89  \n",
       "1           TAXA DE INSCRIÇÃO          TAXA     0.00          NaN         NaN  \n",
       "2  Mensalidade Plano de Saúde          TAXA   104.01          NaN         NaN  \n",
       "3           TAXA DE INSCRIÇÃO          TAXA     0.00          NaN         NaN  \n",
       "4  Mensalidade Plano de Saúde          TAXA   187.77          0.0      187.77  "
      ]
     },
     "execution_count": 2,
     "metadata": {},
     "output_type": "execute_result"
    }
   ],
   "source": [
    "date_format = lambda s: pd.datetime.strptime(s,\"%d/%m/%Y\")\n",
    "data = pd.read_csv(\"receitas_1000.csv\",  encoding = \"utf-8\", delimiter=\";\" , decimal=\",\" , parse_dates=[\"DAT_EMISSAO\",\"DAT_PAGTO\"] , date_parser=date_format) \n",
    "#data = pd.read_csv(\"receitas.csv\",  engine='python', delimiter=\";\" , decimal=\",\" , parse_dates=[\"DAT_EMISSAO\",\"DAT_PAGTO\"] , date_parser=date_format) \n",
    "data.head()\n"
   ]
  },
  {
   "cell_type": "code",
   "execution_count": 3,
   "metadata": {},
   "outputs": [
    {
     "name": "stdout",
     "output_type": "stream",
     "text": [
      "COMPETENCIA                     int64\n",
      "CODIGO_BENEFICIARIO            object\n",
      "NUM_EMPRESA                     int64\n",
      "FATURAR_CONTRA                 object\n",
      "DAT_EMISSAO            datetime64[ns]\n",
      "DAT_PAGTO                      object\n",
      "COD_CENTRO_CUSTO              float64\n",
      "NOM_CENTRO_CUSTO               object\n",
      "TIPO_ATO                       object\n",
      "TIPO_COBRANCA                  object\n",
      "VAL_ATO                       float64\n",
      "VALOR_SALDO                   float64\n",
      "VALOR_PAGO                    float64\n",
      "dtype: object\n"
     ]
    }
   ],
   "source": [
    "print(data.dtypes)"
   ]
  },
  {
   "cell_type": "code",
   "execution_count": 4,
   "metadata": {},
   "outputs": [
    {
     "name": "stdout",
     "output_type": "stream",
     "text": [
      "Reading... 2019-10-25 12:35:34.188054\n",
      "Done... 2019-10-25 12:35:34.458896\n"
     ]
    }
   ],
   "source": [
    "# Dask\n",
    "import dask.dataframe as dd\n",
    "#data2 = dask.dataframe.read_csv(\"receitas_1000.csv\",  delimiter=\";\")\n",
    "#data2 = dask.dataframe.read_csv(\"receitas.csv\",  delimiter=\";\",  engine='python', dtype={'NUM_EMPRESA': 'object'})\n",
    "date_format = lambda s: pd.datetime.strptime(s,\"%d/%m/%Y\")\n",
    "\n",
    "print('Reading...', datetime.datetime.now())\n",
    "data2 = dd.read_csv(\"receitas.csv\",  blocksize=\"100MB\", engine='python', delimiter=\";\" , decimal=\",\" , parse_dates=[\"DAT_EMISSAO\"] , date_parser=date_format, dtype={'NUM_EMPRESA': 'object'}) \n",
    "dtrow = dd.read_csv(\"receitas.csv\",  blocksize=\"100MB\", engine='python', delimiter=\";\" , decimal=\",\" , usecols=[\"COMPETENCIA\",\"CODIGO_BENEFICIARIO\"] )\n",
    "print('Done...', datetime.datetime.now())"
   ]
  },
  {
   "cell_type": "code",
   "execution_count": 5,
   "metadata": {},
   "outputs": [
    {
     "data": {
      "text/html": [
       "<div>\n",
       "<style scoped>\n",
       "    .dataframe tbody tr th:only-of-type {\n",
       "        vertical-align: middle;\n",
       "    }\n",
       "\n",
       "    .dataframe tbody tr th {\n",
       "        vertical-align: top;\n",
       "    }\n",
       "\n",
       "    .dataframe thead th {\n",
       "        text-align: right;\n",
       "    }\n",
       "</style>\n",
       "<table border=\"1\" class=\"dataframe\">\n",
       "  <thead>\n",
       "    <tr style=\"text-align: right;\">\n",
       "      <th></th>\n",
       "      <th>COMPETENCIA</th>\n",
       "      <th>CODIGO_BENEFICIARIO</th>\n",
       "      <th>NUM_EMPRESA</th>\n",
       "      <th>FATURAR_CONTRA</th>\n",
       "      <th>DAT_EMISSAO</th>\n",
       "      <th>DAT_PAGTO</th>\n",
       "      <th>COD_CENTRO_CUSTO</th>\n",
       "      <th>NOM_CENTRO_CUSTO</th>\n",
       "      <th>TIPO_ATO</th>\n",
       "      <th>TIPO_COBRANCA</th>\n",
       "      <th>VAL_ATO</th>\n",
       "      <th>VALOR_SALDO</th>\n",
       "      <th>VALOR_PAGO</th>\n",
       "    </tr>\n",
       "  </thead>\n",
       "  <tbody>\n",
       "    <tr>\n",
       "      <th>0</th>\n",
       "      <td>201406</td>\n",
       "      <td>0025.1231.035664.00-0</td>\n",
       "      <td>-1</td>\n",
       "      <td>Titular</td>\n",
       "      <td>2014-06-10</td>\n",
       "      <td>04/08/2014</td>\n",
       "      <td>NaN</td>\n",
       "      <td>NaN</td>\n",
       "      <td>Mensalidade Plano de Saúde</td>\n",
       "      <td>TAXA</td>\n",
       "      <td>176.82</td>\n",
       "      <td>0.0</td>\n",
       "      <td>286.89</td>\n",
       "    </tr>\n",
       "    <tr>\n",
       "      <th>1</th>\n",
       "      <td>201406</td>\n",
       "      <td>0025.1231.035664.00-0</td>\n",
       "      <td>-1</td>\n",
       "      <td>Titular</td>\n",
       "      <td>2014-06-10</td>\n",
       "      <td>04/08/2014</td>\n",
       "      <td>NaN</td>\n",
       "      <td>NaN</td>\n",
       "      <td>TAXA DE INSCRIÇÃO</td>\n",
       "      <td>TAXA</td>\n",
       "      <td>0.00</td>\n",
       "      <td>NaN</td>\n",
       "      <td>NaN</td>\n",
       "    </tr>\n",
       "    <tr>\n",
       "      <th>2</th>\n",
       "      <td>201406</td>\n",
       "      <td>0025.1231.035664.30-2</td>\n",
       "      <td>-1</td>\n",
       "      <td>Titular</td>\n",
       "      <td>2014-06-10</td>\n",
       "      <td>04/08/2014</td>\n",
       "      <td>NaN</td>\n",
       "      <td>NaN</td>\n",
       "      <td>Mensalidade Plano de Saúde</td>\n",
       "      <td>TAXA</td>\n",
       "      <td>104.01</td>\n",
       "      <td>NaN</td>\n",
       "      <td>NaN</td>\n",
       "    </tr>\n",
       "    <tr>\n",
       "      <th>3</th>\n",
       "      <td>201406</td>\n",
       "      <td>0025.1231.035664.30-2</td>\n",
       "      <td>-1</td>\n",
       "      <td>Titular</td>\n",
       "      <td>2014-06-10</td>\n",
       "      <td>04/08/2014</td>\n",
       "      <td>NaN</td>\n",
       "      <td>NaN</td>\n",
       "      <td>TAXA DE INSCRIÇÃO</td>\n",
       "      <td>TAXA</td>\n",
       "      <td>0.00</td>\n",
       "      <td>NaN</td>\n",
       "      <td>NaN</td>\n",
       "    </tr>\n",
       "    <tr>\n",
       "      <th>4</th>\n",
       "      <td>201407</td>\n",
       "      <td>0025.1978.001866.00-0</td>\n",
       "      <td>-1</td>\n",
       "      <td>Titular</td>\n",
       "      <td>2014-06-10</td>\n",
       "      <td>10/06/2014</td>\n",
       "      <td>NaN</td>\n",
       "      <td>NaN</td>\n",
       "      <td>Mensalidade Plano de Saúde</td>\n",
       "      <td>TAXA</td>\n",
       "      <td>187.77</td>\n",
       "      <td>0.0</td>\n",
       "      <td>187.77</td>\n",
       "    </tr>\n",
       "    <tr>\n",
       "      <th>5</th>\n",
       "      <td>201408</td>\n",
       "      <td>0025.1978.001866.00-0</td>\n",
       "      <td>-1</td>\n",
       "      <td>Titular</td>\n",
       "      <td>2014-06-10</td>\n",
       "      <td>10/06/2014</td>\n",
       "      <td>NaN</td>\n",
       "      <td>NaN</td>\n",
       "      <td>Mensalidade Plano de Saúde</td>\n",
       "      <td>TAXA</td>\n",
       "      <td>187.77</td>\n",
       "      <td>0.0</td>\n",
       "      <td>208.77</td>\n",
       "    </tr>\n",
       "    <tr>\n",
       "      <th>6</th>\n",
       "      <td>201407</td>\n",
       "      <td>0025.1955.002766.00-0</td>\n",
       "      <td>-1</td>\n",
       "      <td>Titular</td>\n",
       "      <td>2014-06-11</td>\n",
       "      <td>11/06/2014</td>\n",
       "      <td>NaN</td>\n",
       "      <td>NaN</td>\n",
       "      <td>Mensalidade Plano de Saúde</td>\n",
       "      <td>TAXA</td>\n",
       "      <td>446.70</td>\n",
       "      <td>0.0</td>\n",
       "      <td>446.70</td>\n",
       "    </tr>\n",
       "    <tr>\n",
       "      <th>7</th>\n",
       "      <td>201407</td>\n",
       "      <td>0025.1970.001944.00-6</td>\n",
       "      <td>-1</td>\n",
       "      <td>Titular</td>\n",
       "      <td>2014-06-11</td>\n",
       "      <td>11/06/2014</td>\n",
       "      <td>NaN</td>\n",
       "      <td>NaN</td>\n",
       "      <td>Mensalidade Plano de Saúde</td>\n",
       "      <td>TAXA</td>\n",
       "      <td>0.00</td>\n",
       "      <td>0.0</td>\n",
       "      <td>302.84</td>\n",
       "    </tr>\n",
       "    <tr>\n",
       "      <th>8</th>\n",
       "      <td>201407</td>\n",
       "      <td>0025.1970.001944.10-3</td>\n",
       "      <td>-1</td>\n",
       "      <td>Titular</td>\n",
       "      <td>2014-06-11</td>\n",
       "      <td>11/06/2014</td>\n",
       "      <td>NaN</td>\n",
       "      <td>NaN</td>\n",
       "      <td>Mensalidade Plano de Saúde</td>\n",
       "      <td>TAXA</td>\n",
       "      <td>151.42</td>\n",
       "      <td>NaN</td>\n",
       "      <td>NaN</td>\n",
       "    </tr>\n",
       "    <tr>\n",
       "      <th>9</th>\n",
       "      <td>201407</td>\n",
       "      <td>0025.1970.001944.30-8</td>\n",
       "      <td>-1</td>\n",
       "      <td>Titular</td>\n",
       "      <td>2014-06-11</td>\n",
       "      <td>11/06/2014</td>\n",
       "      <td>NaN</td>\n",
       "      <td>NaN</td>\n",
       "      <td>Mensalidade Plano de Saúde</td>\n",
       "      <td>TAXA</td>\n",
       "      <td>151.42</td>\n",
       "      <td>NaN</td>\n",
       "      <td>NaN</td>\n",
       "    </tr>\n",
       "  </tbody>\n",
       "</table>\n",
       "</div>"
      ],
      "text/plain": [
       "   COMPETENCIA    CODIGO_BENEFICIARIO NUM_EMPRESA FATURAR_CONTRA DAT_EMISSAO  \\\n",
       "0       201406  0025.1231.035664.00-0          -1        Titular  2014-06-10   \n",
       "1       201406  0025.1231.035664.00-0          -1        Titular  2014-06-10   \n",
       "2       201406  0025.1231.035664.30-2          -1        Titular  2014-06-10   \n",
       "3       201406  0025.1231.035664.30-2          -1        Titular  2014-06-10   \n",
       "4       201407  0025.1978.001866.00-0          -1        Titular  2014-06-10   \n",
       "5       201408  0025.1978.001866.00-0          -1        Titular  2014-06-10   \n",
       "6       201407  0025.1955.002766.00-0          -1        Titular  2014-06-11   \n",
       "7       201407  0025.1970.001944.00-6          -1        Titular  2014-06-11   \n",
       "8       201407  0025.1970.001944.10-3          -1        Titular  2014-06-11   \n",
       "9       201407  0025.1970.001944.30-8          -1        Titular  2014-06-11   \n",
       "\n",
       "    DAT_PAGTO  COD_CENTRO_CUSTO NOM_CENTRO_CUSTO                    TIPO_ATO  \\\n",
       "0  04/08/2014               NaN              NaN  Mensalidade Plano de Saúde   \n",
       "1  04/08/2014               NaN              NaN           TAXA DE INSCRIÇÃO   \n",
       "2  04/08/2014               NaN              NaN  Mensalidade Plano de Saúde   \n",
       "3  04/08/2014               NaN              NaN           TAXA DE INSCRIÇÃO   \n",
       "4  10/06/2014               NaN              NaN  Mensalidade Plano de Saúde   \n",
       "5  10/06/2014               NaN              NaN  Mensalidade Plano de Saúde   \n",
       "6  11/06/2014               NaN              NaN  Mensalidade Plano de Saúde   \n",
       "7  11/06/2014               NaN              NaN  Mensalidade Plano de Saúde   \n",
       "8  11/06/2014               NaN              NaN  Mensalidade Plano de Saúde   \n",
       "9  11/06/2014               NaN              NaN  Mensalidade Plano de Saúde   \n",
       "\n",
       "  TIPO_COBRANCA  VAL_ATO  VALOR_SALDO  VALOR_PAGO  \n",
       "0          TAXA   176.82          0.0      286.89  \n",
       "1          TAXA     0.00          NaN         NaN  \n",
       "2          TAXA   104.01          NaN         NaN  \n",
       "3          TAXA     0.00          NaN         NaN  \n",
       "4          TAXA   187.77          0.0      187.77  \n",
       "5          TAXA   187.77          0.0      208.77  \n",
       "6          TAXA   446.70          0.0      446.70  \n",
       "7          TAXA     0.00          0.0      302.84  \n",
       "8          TAXA   151.42          NaN         NaN  \n",
       "9          TAXA   151.42          NaN         NaN  "
      ]
     },
     "execution_count": 5,
     "metadata": {},
     "output_type": "execute_result"
    }
   ],
   "source": [
    "data2.head(10)"
   ]
  },
  {
   "cell_type": "code",
   "execution_count": 6,
   "metadata": {},
   "outputs": [
    {
     "data": {
      "text/plain": [
       "COMPETENCIA                     int64\n",
       "CODIGO_BENEFICIARIO            object\n",
       "NUM_EMPRESA                    object\n",
       "FATURAR_CONTRA                 object\n",
       "DAT_EMISSAO            datetime64[ns]\n",
       "DAT_PAGTO                      object\n",
       "COD_CENTRO_CUSTO              float64\n",
       "NOM_CENTRO_CUSTO               object\n",
       "TIPO_ATO                       object\n",
       "TIPO_COBRANCA                  object\n",
       "VAL_ATO                       float64\n",
       "VALOR_SALDO                   float64\n",
       "VALOR_PAGO                    float64\n",
       "dtype: object"
      ]
     },
     "execution_count": 6,
     "metadata": {},
     "output_type": "execute_result"
    }
   ],
   "source": [
    "data2.dtypes\n"
   ]
  },
  {
   "cell_type": "code",
   "execution_count": 7,
   "metadata": {},
   "outputs": [
    {
     "data": {
      "text/html": [
       "<div>\n",
       "<style scoped>\n",
       "    .dataframe tbody tr th:only-of-type {\n",
       "        vertical-align: middle;\n",
       "    }\n",
       "\n",
       "    .dataframe tbody tr th {\n",
       "        vertical-align: top;\n",
       "    }\n",
       "\n",
       "    .dataframe thead th {\n",
       "        text-align: right;\n",
       "    }\n",
       "</style>\n",
       "<table border=\"1\" class=\"dataframe\">\n",
       "  <thead>\n",
       "    <tr style=\"text-align: right;\">\n",
       "      <th></th>\n",
       "      <th>COMPETENCIA</th>\n",
       "      <th>CODIGO_BENEFICIARIO</th>\n",
       "    </tr>\n",
       "  </thead>\n",
       "  <tbody>\n",
       "    <tr>\n",
       "      <th>0</th>\n",
       "      <td>201406</td>\n",
       "      <td>0025.1231.035664.00-0</td>\n",
       "    </tr>\n",
       "    <tr>\n",
       "      <th>1</th>\n",
       "      <td>201406</td>\n",
       "      <td>0025.1231.035664.00-0</td>\n",
       "    </tr>\n",
       "    <tr>\n",
       "      <th>2</th>\n",
       "      <td>201406</td>\n",
       "      <td>0025.1231.035664.30-2</td>\n",
       "    </tr>\n",
       "    <tr>\n",
       "      <th>3</th>\n",
       "      <td>201406</td>\n",
       "      <td>0025.1231.035664.30-2</td>\n",
       "    </tr>\n",
       "    <tr>\n",
       "      <th>4</th>\n",
       "      <td>201407</td>\n",
       "      <td>0025.1978.001866.00-0</td>\n",
       "    </tr>\n",
       "    <tr>\n",
       "      <th>5</th>\n",
       "      <td>201408</td>\n",
       "      <td>0025.1978.001866.00-0</td>\n",
       "    </tr>\n",
       "    <tr>\n",
       "      <th>6</th>\n",
       "      <td>201407</td>\n",
       "      <td>0025.1955.002766.00-0</td>\n",
       "    </tr>\n",
       "    <tr>\n",
       "      <th>7</th>\n",
       "      <td>201407</td>\n",
       "      <td>0025.1970.001944.00-6</td>\n",
       "    </tr>\n",
       "    <tr>\n",
       "      <th>8</th>\n",
       "      <td>201407</td>\n",
       "      <td>0025.1970.001944.10-3</td>\n",
       "    </tr>\n",
       "    <tr>\n",
       "      <th>9</th>\n",
       "      <td>201407</td>\n",
       "      <td>0025.1970.001944.30-8</td>\n",
       "    </tr>\n",
       "  </tbody>\n",
       "</table>\n",
       "</div>"
      ],
      "text/plain": [
       "   COMPETENCIA    CODIGO_BENEFICIARIO\n",
       "0       201406  0025.1231.035664.00-0\n",
       "1       201406  0025.1231.035664.00-0\n",
       "2       201406  0025.1231.035664.30-2\n",
       "3       201406  0025.1231.035664.30-2\n",
       "4       201407  0025.1978.001866.00-0\n",
       "5       201408  0025.1978.001866.00-0\n",
       "6       201407  0025.1955.002766.00-0\n",
       "7       201407  0025.1970.001944.00-6\n",
       "8       201407  0025.1970.001944.10-3\n",
       "9       201407  0025.1970.001944.30-8"
      ]
     },
     "execution_count": 7,
     "metadata": {},
     "output_type": "execute_result"
    }
   ],
   "source": [
    "dtrow.head(10)"
   ]
  },
  {
   "cell_type": "code",
   "execution_count": 9,
   "metadata": {},
   "outputs": [
    {
     "data": {
      "text/plain": [
       "COMPETENCIA             int64\n",
       "CODIGO_BENEFICIARIO    object\n",
       "dtype: object"
      ]
     },
     "execution_count": 9,
     "metadata": {},
     "output_type": "execute_result"
    }
   ],
   "source": [
    "dtrow.dtypes\n"
   ]
  },
  {
   "cell_type": "code",
   "execution_count": 10,
   "metadata": {},
   "outputs": [],
   "source": [
    "#print(dtrow.shape[0].compute()) # this not works due to memory issues\n",
    "\n",
    "# get row count from file (even huge files)\n",
    "def row_count(input):\n",
    "    with open(input) as f:\n",
    "        for i, l in enumerate(f):\n",
    "            pass\n",
    "    return i"
   ]
  },
  {
   "cell_type": "code",
   "execution_count": 13,
   "metadata": {},
   "outputs": [
    {
     "name": "stdout",
     "output_type": "stream",
     "text": [
      "20813185\n"
     ]
    }
   ],
   "source": [
    "print(row_count(\"receitas.csv\"))"
   ]
  },
  {
   "cell_type": "code",
   "execution_count": 16,
   "metadata": {},
   "outputs": [],
   "source": [
    "def get_dtype_csv(p_csv, p_delimiter=';' , p_decimal='.', p_date_format=None,  p_date_fields=False, p_compression='infer'):\n",
    "    \n",
    "    if p_date_format == None:\n",
    "        dt_format = None\n",
    "    else:    \n",
    "        dt_format = lambda s: pd.datetime.strptime(s, p_date_format)\n",
    "        # 25/10/2018 => \"%d/%m/%Y\"\n",
    "\n",
    "    ds = pd.read_csv(p_csv , encoding  = 'utf-8' , delimiter = p_delimiter , decimal = p_decimal,\n",
    "                     parse_dates = p_date_fields, date_parser = dt_format, compression = p_compression)\n",
    "    \n",
    "    print(ds.dtypes)\n",
    "    return ds.dtypes\n",
    "        \n",
    "        "
   ]
  },
  {
   "cell_type": "code",
   "execution_count": 19,
   "metadata": {},
   "outputs": [
    {
     "name": "stdout",
     "output_type": "stream",
     "text": [
      "COMPETENCIA                     int64\n",
      "CODIGO_BENEFICIARIO            object\n",
      "NUM_EMPRESA                     int64\n",
      "FATURAR_CONTRA                 object\n",
      "DAT_EMISSAO            datetime64[ns]\n",
      "DAT_PAGTO                      object\n",
      "COD_CENTRO_CUSTO              float64\n",
      "NOM_CENTRO_CUSTO               object\n",
      "TIPO_ATO                       object\n",
      "TIPO_COBRANCA                  object\n",
      "VAL_ATO                       float64\n",
      "VALOR_SALDO                   float64\n",
      "VALOR_PAGO                    float64\n",
      "dtype: object\n"
     ]
    },
    {
     "data": {
      "text/plain": [
       "COMPETENCIA                     int64\n",
       "CODIGO_BENEFICIARIO            object\n",
       "NUM_EMPRESA                     int64\n",
       "FATURAR_CONTRA                 object\n",
       "DAT_EMISSAO            datetime64[ns]\n",
       "DAT_PAGTO                      object\n",
       "COD_CENTRO_CUSTO              float64\n",
       "NOM_CENTRO_CUSTO               object\n",
       "TIPO_ATO                       object\n",
       "TIPO_COBRANCA                  object\n",
       "VAL_ATO                       float64\n",
       "VALOR_SALDO                   float64\n",
       "VALOR_PAGO                    float64\n",
       "dtype: object"
      ]
     },
     "execution_count": 19,
     "metadata": {},
     "output_type": "execute_result"
    }
   ],
   "source": [
    "get_dtype_csv(\"receitas_1000.csv.gz\",  p_delimiter=\";\" , p_decimal=\",\" , \n",
    "          p_date_fields=[\"DAT_EMISSAO\",\"DAT_PAGTO\"] , p_date_format=\"%d/%m/%Y\", p_compression = 'gzip') \n"
   ]
  },
  {
   "cell_type": "code",
   "execution_count": 20,
   "metadata": {},
   "outputs": [
    {
     "name": "stdout",
     "output_type": "stream",
     "text": [
      "COMPETENCIA              int64\n",
      "CODIGO_BENEFICIARIO     object\n",
      "NUM_EMPRESA              int64\n",
      "FATURAR_CONTRA          object\n",
      "DAT_EMISSAO             object\n",
      "DAT_PAGTO               object\n",
      "COD_CENTRO_CUSTO       float64\n",
      "NOM_CENTRO_CUSTO        object\n",
      "TIPO_ATO                object\n",
      "TIPO_COBRANCA           object\n",
      "VAL_ATO                 object\n",
      "VALOR_SALDO             object\n",
      "VALOR_PAGO              object\n",
      "dtype: object\n"
     ]
    }
   ],
   "source": [
    "tipos = get_dtype_csv('receitas_1000.csv.gz')"
   ]
  },
  {
   "cell_type": "code",
   "execution_count": 21,
   "metadata": {},
   "outputs": [
    {
     "data": {
      "text/plain": [
       "dtype('int64')"
      ]
     },
     "execution_count": 21,
     "metadata": {},
     "output_type": "execute_result"
    }
   ],
   "source": [
    "tipos['COMPETENCIA']"
   ]
  },
  {
   "cell_type": "code",
   "execution_count": 22,
   "metadata": {},
   "outputs": [],
   "source": [
    "def get_duplicated(p_csv, p_keys=[]):\n",
    "    ds = pd.read_csv(p_csv, delimiter = ';', nrows=100)\n",
    "    \n",
    "    if not p_keys:\n",
    "        # all columns\n",
    "        duplic = ds[ds.duplicated()]\n",
    "        print(\"Duplicate Rows based on all columns are: \")\n",
    "\n",
    "\n",
    "    else:\n",
    "        duplic = ds[ds.duplicated(p_keys)] \n",
    "        print(\"Duplicate Rows based on p_keys columns are: \")\n",
    "\n",
    "              \n",
    "    print(duplic)\n",
    "    \n",
    "    return duplic\n"
   ]
  },
  {
   "cell_type": "code",
   "execution_count": 23,
   "metadata": {},
   "outputs": [
    {
     "name": "stdout",
     "output_type": "stream",
     "text": [
      "Duplicate Rows based on all columns are: \n",
      "    COMPETENCIA    CODIGO_BENEFICIARIO  NUM_EMPRESA FATURAR_CONTRA  \\\n",
      "12       201406  0025.1231.035632.00-1           -1        Titular   \n",
      "\n",
      "   DAT_EMISSAO   DAT_PAGTO  COD_CENTRO_CUSTO  NOM_CENTRO_CUSTO    TIPO_ATO  \\\n",
      "12  11/06/2014  09/07/2014               NaN               NaN  SOS UNIMED   \n",
      "\n",
      "   TIPO_COBRANCA VAL_ATO  VALOR_SALDO VALOR_PAGO  \n",
      "12          TAXA    7,77          NaN        NaN  \n"
     ]
    }
   ],
   "source": [
    "dups = get_duplicated('receitas_1000.csv')"
   ]
  },
  {
   "cell_type": "code",
   "execution_count": 24,
   "metadata": {},
   "outputs": [
    {
     "name": "stdout",
     "output_type": "stream",
     "text": [
      "Duplicate Rows based on p_keys columns are: \n",
      "    COMPETENCIA    CODIGO_BENEFICIARIO  NUM_EMPRESA FATURAR_CONTRA  \\\n",
      "12       201406  0025.1231.035632.00-1           -1        Titular   \n",
      "32       201406  0025.1250.035482.00-6           -1        Titular   \n",
      "\n",
      "   DAT_EMISSAO   DAT_PAGTO  COD_CENTRO_CUSTO  NOM_CENTRO_CUSTO    TIPO_ATO  \\\n",
      "12  11/06/2014  09/07/2014               NaN               NaN  SOS UNIMED   \n",
      "32  11/06/2014  26/06/2014               NaN               NaN      USIMED   \n",
      "\n",
      "   TIPO_COBRANCA VAL_ATO  VALOR_SALDO VALOR_PAGO  \n",
      "12          TAXA    7,77          NaN        NaN  \n",
      "32        TAXA 2    4,05          NaN        NaN  \n"
     ]
    }
   ],
   "source": [
    "dups = get_duplicated('receitas_1000.csv', ['COMPETENCIA', 'CODIGO_BENEFICIARIO', 'TIPO_ATO'])"
   ]
  },
  {
   "cell_type": "code",
   "execution_count": null,
   "metadata": {},
   "outputs": [],
   "source": []
  },
  {
   "cell_type": "code",
   "execution_count": null,
   "metadata": {},
   "outputs": [],
   "source": [
    "def get_nulls(columns, null_values):\n",
    "    # columns contém quais os campos serão validados\n",
    "    # null values contém quais os valores que podem ser nulos: (\"\", \"NaN\", \"N/A\", \"/s\", \"/t\")\n",
    "    # retorna linhas com colunas null\n",
    "    "
   ]
  },
  {
   "cell_type": "code",
   "execution_count": null,
   "metadata": {},
   "outputs": [],
   "source": [
    "def valid_col_regex(columns, regex)\n",
    "    # columns, quais colunas serão validadas\n",
    "    # regex: string comn a expressão regular a ser validada\n",
    "    # exemplo validar CPF / CNPJ / Codigo Beneficiario 0025.1955.002766.00-0\n",
    "    # retorna linhas com colunas invalidas\n",
    "    "
   ]
  },
  {
   "cell_type": "markdown",
   "metadata": {},
   "source": [
    "Reading JSOn file with file schema format"
   ]
  },
  {
   "cell_type": "code",
   "execution_count": 51,
   "metadata": {},
   "outputs": [
    {
     "name": "stdout",
     "output_type": "stream",
     "text": [
      "{'format': {'format_name': 'csv_sample_001', 'csv': {'delimiter': ';', 'compression': 'gzip', 'header': 'true', 'validate_keys': 'false'}, 'columns': {'CODIGO': {'type': 'integer', 'nullable': 'false', 'key': 'true'}, 'NOME': {'type': 'string', 'nullable': 'false', 'size': '150'}, 'CPF': {'type': 'string', 'size': '14', 'nullable': 'true', 'key': 'false'}, 'NASCIMENTO': {'type': 'date', 'date_format': 'dd/mm/yyyy', 'min_date': '01/01/1900', 'max_date': '31/12/2050', 'nullable': 'true', 'key': 'false'}, 'SALDO': {'type': 'float', 'nullable': 'yes', 'key': 'false', 'decimal': ',', 'thousand': '.', 'negative': 'true', 'currency_symbol': 'R$'}}}}\n"
     ]
    }
   ],
   "source": [
    "import json\n",
    "\n",
    "with open('format_sample_001.json') as json_file:\n",
    "    data = json.load(json_file)\n",
    "    print(data)\n"
   ]
  },
  {
   "cell_type": "code",
   "execution_count": 52,
   "metadata": {},
   "outputs": [
    {
     "name": "stdout",
     "output_type": "stream",
     "text": [
      "csv_sample_001\n",
      "{'delimiter': ';', 'compression': 'gzip', 'header': 'true', 'validate_keys': 'false'}\n",
      "dict_items([('delimiter', ';'), ('compression', 'gzip'), ('header', 'true'), ('validate_keys', 'false')])\n"
     ]
    }
   ],
   "source": [
    "print(data[\"format\"][\"format_name\"])\n",
    "print(data[\"format\"][\"csv\"])\n",
    "d_csv = {}\n",
    "d_csv = data[\"format\"][\"csv\"]\n",
    "print(d_csv.items())"
   ]
  },
  {
   "cell_type": "code",
   "execution_count": 56,
   "metadata": {},
   "outputs": [
    {
     "name": "stdout",
     "output_type": "stream",
     "text": [
      "{'CODIGO': {'type': 'integer', 'nullable': 'false', 'key': 'true'}, 'NOME': {'type': 'string', 'nullable': 'false', 'size': '150'}, 'CPF': {'type': 'string', 'size': '14', 'nullable': 'true', 'key': 'false'}, 'NASCIMENTO': {'type': 'date', 'date_format': 'dd/mm/yyyy', 'min_date': '01/01/1900', 'max_date': '31/12/2050', 'nullable': 'true', 'key': 'false'}, 'SALDO': {'type': 'float', 'nullable': 'yes', 'key': 'false', 'decimal': ',', 'thousand': '.', 'negative': 'true', 'currency_symbol': 'R$'}}\n"
     ]
    }
   ],
   "source": [
    "d_cols = data[\"format\"][\"columns\"]\n",
    "print(d_cols)"
   ]
  },
  {
   "cell_type": "code",
   "execution_count": 67,
   "metadata": {},
   "outputs": [
    {
     "name": "stdout",
     "output_type": "stream",
     "text": [
      "CODIGO = {'type': 'integer', 'nullable': 'false', 'key': 'true'}\n",
      "type = integer\n",
      "nullable = false\n",
      "key = true\n",
      "\n",
      "NOME = {'type': 'string', 'nullable': 'false', 'size': '150'}\n",
      "type = string\n",
      "nullable = false\n",
      "size = 150\n",
      "\n",
      "CPF = {'type': 'string', 'size': '14', 'nullable': 'true', 'key': 'false'}\n",
      "type = string\n",
      "size = 14\n",
      "nullable = true\n",
      "key = false\n",
      "\n",
      "NASCIMENTO = {'type': 'date', 'date_format': 'dd/mm/yyyy', 'min_date': '01/01/1900', 'max_date': '31/12/2050', 'nullable': 'true', 'key': 'false'}\n",
      "type = date\n",
      "date_format = dd/mm/yyyy\n",
      "min_date = 01/01/1900\n",
      "max_date = 31/12/2050\n",
      "nullable = true\n",
      "key = false\n",
      "\n",
      "SALDO = {'type': 'float', 'nullable': 'yes', 'key': 'false', 'decimal': ',', 'thousand': '.', 'negative': 'true', 'currency_symbol': 'R$'}\n",
      "type = float\n",
      "nullable = yes\n",
      "key = false\n",
      "decimal = ,\n",
      "thousand = .\n",
      "negative = true\n",
      "currency_symbol = R$\n",
      "\n"
     ]
    }
   ],
   "source": [
    "colunas = []\n",
    "for i in d_cols:\n",
    "    print(i, '=', d_cols[i])\n",
    "    colunas.append(i)\n",
    "    for j in d_cols[i]:\n",
    "        print(j, '=', d_cols[i][j])\n",
    "    print('')"
   ]
  },
  {
   "cell_type": "code",
   "execution_count": 68,
   "metadata": {},
   "outputs": [
    {
     "name": "stdout",
     "output_type": "stream",
     "text": [
      "['CODIGO', 'NOME', 'CPF', 'NASCIMENTO', 'SALDO']\n"
     ]
    }
   ],
   "source": [
    "print(colunas)"
   ]
  }
 ],
 "metadata": {
  "kernelspec": {
   "display_name": "Python 3",
   "language": "python",
   "name": "python3"
  },
  "language_info": {
   "codemirror_mode": {
    "name": "ipython",
    "version": 3
   },
   "file_extension": ".py",
   "mimetype": "text/x-python",
   "name": "python",
   "nbconvert_exporter": "python",
   "pygments_lexer": "ipython3",
   "version": "3.7.3"
  }
 },
 "nbformat": 4,
 "nbformat_minor": 2
}
